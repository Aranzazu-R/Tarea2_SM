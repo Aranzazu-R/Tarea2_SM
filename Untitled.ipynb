{
 "cells": [
  {
   "cell_type": "markdown",
   "metadata": {},
   "source": [
    "# Why Python is so popular with developers: 3 reasons the language has exploded."
   ]
  },
  {
   "cell_type": "markdown",
   "metadata": {},
   "source": [
    "Python es el lenguaje de programación con el crecimiento mas rápido del mundo.\n",
    "Según Kristen Sosulski, profesora de información, operaciones y administración de la universidad de Nueva York, “Python es muy popular debido a su conjunto de bibliotecas robustas que lo convierten en un lenguaje de programación dinámico y rápido. Está orientado a objetos y realmente permite todo, desde crear un sitio web, hasta el desarrollo de aplicaciones, y crear diferentes tipos de modelos de datos”. \n",
    "Existen 3 principales razones por las que Python esta dominando el espacio de programación."
   ]
  },
  {
   "cell_type": "markdown",
   "metadata": {},
   "source": [
    "* Fácil de aprender: según Karen Panetta, miembro del IEEE y decano de ingeniería graduada en la Universidad de Tufts, Python es un lenguaje con el que con muy poco código se puede lograr mucho, esto es por que Python se lee como el inglés.\n",
    "* La explosión de inteligencia artificial, aprendizaje automático y ciencia de datos en las empresas: Python tiene un gran marco de referencia donde se pueden trabajar distintos proyectos sobre ciencia de datos, inteligencia artificial y machine learning, cada vez mas usuarios lo utilizan para esto.\n",
    "* Gran comunidad de desarrolladores: debido a que cuenta con una gran aceptación en diversas disciplinas de la programación, Python cuenta con una extensa biblioteca de librerías que pueden ayudarte a resolver cualquier problema de programación, basta con buscar en un sitio de desarrolladores de Python para saber como dar solución a tus problemas de programación."
   ]
  },
  {
   "cell_type": "markdown",
   "metadata": {},
   "source": [
    "Resumen del artículo 'Why Python is so popular with developers: 3 reasons the language has exploded', por Alison DeNisco Rayome, del 12 de Septiembre del 2018. https://www.techrepublic.com/article/why-python-is-so-popular-with-developers-3-reasons-the-language-has-exploded/"
   ]
  }
 ],
 "metadata": {
  "kernelspec": {
   "display_name": "Python 3",
   "language": "python",
   "name": "python3"
  },
  "language_info": {
   "codemirror_mode": {
    "name": "ipython",
    "version": 3
   },
   "file_extension": ".py",
   "mimetype": "text/x-python",
   "name": "python",
   "nbconvert_exporter": "python",
   "pygments_lexer": "ipython3",
   "version": "3.7.3"
  }
 },
 "nbformat": 4,
 "nbformat_minor": 2
}
